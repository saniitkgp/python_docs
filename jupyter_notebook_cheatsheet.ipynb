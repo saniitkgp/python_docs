{
 "cells": [
  {
   "cell_type": "markdown",
   "metadata": {},
   "source": [
    "# <b>This notebook containing the cheatsheet for making notes and shortcuts for working in code.</b>\n"
   ]
  },
  {
   "cell_type": "markdown",
   "metadata": {},
   "source": [
    "## Table of contains"
   ]
  },
  {
   "cell_type": "markdown",
   "metadata": {},
   "source": [
    "\n",
    "1. [Heading](#Heading)\n",
    "1. [List](#List)\n",
    "1. [ Links](#Links)\n",
    "1. [ Math](#Math)\n",
    "1. [ Bold](#Bold)\n",
    "1. [ Italic](#Italic)\n",
    "1. [Shortcuts](#shortcuts)"
   ]
  },
  {
   "cell_type": "markdown",
   "metadata": {},
   "source": [
    "## 1. <a id='Heading'>Heading</a><br>\n"
   ]
  },
  {
   "cell_type": "markdown",
   "metadata": {},
   "source": [
    "<h2><b><font color='red'>There are 2 ways of making hadding </b> </h2> </font>\n",
    "\n",
    "###   <font color='blue'> 1. By using #</font> \n",
    "\n",
    "### syntex\n",
    "    \n",
    "        # This is the heading h1 example using \n",
    "        ## This is the heading h2 example using \n",
    "        ### This is the heading h3 example using "
   ]
  },
  {
   "cell_type": "markdown",
   "metadata": {},
   "source": [
    "### *output*\n",
    "\n",
    "# This is the heading h1 example using \n",
    "## This is the heading h2 example using \n",
    "### This is the heading h3 example using "
   ]
  },
  {
   "cell_type": "markdown",
   "metadata": {},
   "source": [
    "### <font color='blue'>2. By using html heading tag <code> <>  </code> </font>\n",
    "### syntex\n",
    "\n",
    "        <h1> This is the heading h1 tag example using </h1>\n",
    "        <h2> This is the heading h2 example using</h2> \n",
    "        <h3> This is the heading h3 example using </h3>"
   ]
  },
  {
   "cell_type": "markdown",
   "metadata": {},
   "source": [
    "### *output*\n",
    "<h1> This is the heading h1 tag example using </h1>\n",
    "<h2> This is the heading h2 example using</h2> \n",
    "<h3> This is the heading h3 example using </h3>"
   ]
  },
  {
   "cell_type": "markdown",
   "metadata": {},
   "source": [
    "### -------------------------------------------------------------------------------------------------------------------------------------------------------------"
   ]
  },
  {
   "cell_type": "markdown",
   "metadata": {},
   "source": [
    "## 2. <a id='List'>List</a><br>"
   ]
  },
  {
   "cell_type": "markdown",
   "metadata": {},
   "source": [
    "<h2><b><font color='red'>Two types of list are:- </b> </h2> </font>\n",
    "\n",
    "###   <font color='blue'> 1.  Order List</font> ###\n",
    "### Syntex\n",
    "            1. list 1\n",
    "            1. list 2\n",
    "            1. list 3\n",
    "                1. list 3.1\n",
    "                1. list 3.2\n",
    "                    1. list 3.2.1"
   ]
  },
  {
   "cell_type": "markdown",
   "metadata": {},
   "source": [
    "### *output*\n",
    "1. list 1\n",
    "1. list 2\n",
    "1. list 3\n",
    "    1. list 3.1\n",
    "    1. list 3.2\n",
    "        1. list 3.2.1"
   ]
  },
  {
   "cell_type": "markdown",
   "metadata": {},
   "source": [
    "###   <font color='blue'> 1.  Unorder List</font> \n",
    "### Syntex\n",
    "            * list 1\n",
    "            * list 2\n",
    "            * list 3\n",
    "                * list 3.1\n",
    "                * list 3.2\n",
    "                    1* list 3.2.1"
   ]
  },
  {
   "cell_type": "markdown",
   "metadata": {},
   "source": [
    "### *output*\n",
    "* list 1\n",
    "* list 2\n",
    "* list 3\n",
    "    * list 3.1\n",
    "    * list 3.2\n",
    "        1* list 3.2.1"
   ]
  },
  {
   "cell_type": "markdown",
   "metadata": {},
   "source": [
    "### -------------------------------------------------------------------------------------------------------------------------------------------------------------"
   ]
  },
  {
   "cell_type": "markdown",
   "metadata": {},
   "source": [
    "## 3. <a id='Links'>Links</a><br>\n",
    "<h2><b><font color='red'>We can create links that have two part:-  </b> </h2> </font>\n",
    "<h3><font color='blue'> 1.  Link Creating</h3></font>\n",
    "<h3> Link can be create using <code> [link name](#link_attributes)</code>. link name is the name which is display to user and also clickable. once the link is click it goes to the section where link_attributes is linked </h3>"
   ]
  },
  {
   "cell_type": "markdown",
   "metadata": {},
   "source": [
    "### syntext \n",
    "      [link the section](#sectionName)\n",
    "### *output*\n",
    "[link the section](#sectionName)"
   ]
  },
  {
   "cell_type": "markdown",
   "metadata": {},
   "source": [
    "<h3><font color='blue'> 1.  Linking The Code Part/Section</h3></font>\n",
    "<h3>we can link the code section of part of the code block where the cursor goes after clicking the link.<br> HTML anchor tag is used for this purpose</h3>    "
   ]
  },
  {
   "cell_type": "markdown",
   "metadata": {},
   "source": [
    "### syntext \n",
    "    <a id='sectionName'>This is the section where cursor will come after click</a>\n",
    "### *output*\n",
    "<a id='sectionName'>This is the section where cursor will come after click</a>"
   ]
  },
  {
   "cell_type": "markdown",
   "metadata": {},
   "source": [
    "### -------------------------------------------------------------------------------------------------------------------------------------------------------------"
   ]
  },
  {
   "cell_type": "markdown",
   "metadata": {},
   "source": [
    "<h2>  <a id ='shortcuts'>7.  shortcuts </a></h2>"
   ]
  },
  {
   "cell_type": "markdown",
   "metadata": {},
   "source": [
    "<p>\n",
    "m -> press m to change code to markdown <br>\n",
    "y-> press y to change markdown to code<br>\n",
    "b-> insert cell below<br>\n",
    "a -> insert cell above<br>\n",
    "ctrl+shift+- :-> to split the cell<br>\n",
    "shift + m :-> to merage selected cell<br>\n",
    "    </p>"
   ]
  },
  {
   "cell_type": "code",
   "execution_count": null,
   "metadata": {},
   "outputs": [],
   "source": []
  }
 ],
 "metadata": {
  "kernelspec": {
   "display_name": "Python 3",
   "language": "python",
   "name": "python3"
  },
  "language_info": {
   "codemirror_mode": {
    "name": "ipython",
    "version": 3
   },
   "file_extension": ".py",
   "mimetype": "text/x-python",
   "name": "python",
   "nbconvert_exporter": "python",
   "pygments_lexer": "ipython3",
   "version": "3.7.4"
  }
 },
 "nbformat": 4,
 "nbformat_minor": 2
}
